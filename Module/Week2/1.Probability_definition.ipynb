{
 "cells": [
  {
   "cell_type": "markdown",
   "metadata": {
    "slideshow": {
     "slide_type": "slide"
    }
   },
   "source": [
    "# 1. History of Probability"
   ]
  },
  {
   "cell_type": "markdown",
   "metadata": {
    "slideshow": {
     "slide_type": "subslide"
    }
   },
   "source": [
    "The history of probability is tightly tied to the history of gambling, the earliest six-sided dice dated to about 3000 BC. The first playing cards were known to have existed in the 9th century. However, during most of humanity there was not a formal definition of the mathematics  of chance. \n",
    "\n",
    "One problem was the abstract concept of randomness. For most of the history of humanity, randomness was mostly attributed to divine intervention thus not really tried to be treated as a mathematical concept. Another problem was the inconvenience of the earlier numerical systems. It was not until the adoption of the indian-arabic numerals that real advances were made regarding the concept and rules of gambling."
   ]
  },
  {
   "cell_type": "markdown",
   "metadata": {
    "slideshow": {
     "slide_type": "subslide"
    }
   },
   "source": [
    "It was not until the 17th century that a more formal definition of probability and chance was developed. The intial records of the attempts to solve gambling problems are found in a series of correspondences between two mathematicians Blaise Pascal and Pierre de Fermat.\n",
    "\n",
    "In these letters they attempt to solve questions related to gambling that were raised by a French nobleman (Antoine Gombaud, Chevalier de Mere) whom was an avid gambler."
   ]
  },
  {
   "cell_type": "markdown",
   "metadata": {},
   "source": [
    "### Lets review one of the questions that Chevalier the Mere asked to Pascal:"
   ]
  },
  {
   "cell_type": "markdown",
   "metadata": {},
   "source": [
    "For the first question, de Mere made bet with even odds on getting at least one six on four rolls of a fair die. He was actually making money from this bet, why? \n",
    "\n",
    "We shall try to see if de Mere is correct by simulating his various bets"
   ]
  },
  {
   "cell_type": "markdown",
   "metadata": {},
   "source": [
    "#### How can we generate random draws in R?"
   ]
  },
  {
   "cell_type": "code",
   "execution_count": 3,
   "metadata": {},
   "outputs": [],
   "source": [
    "##Generate a random number from 0 to 1 using the uniform distribution\n",
    "## We will use the function runif()\n",
    "?runif"
   ]
  },
  {
   "cell_type": "code",
   "execution_count": 2,
   "metadata": {},
   "outputs": [
    {
     "data": {
      "text/html": [
       "<ol class=list-inline>\n",
       "\t<li>0.105815433897078</li>\n",
       "\t<li>0.443846351001412</li>\n",
       "\t<li>0.790581372333691</li>\n",
       "\t<li>0.822703272104263</li>\n",
       "\t<li>0.276569725945592</li>\n",
       "\t<li>0.0598918728064746</li>\n",
       "\t<li>0.463237771531567</li>\n",
       "\t<li>0.953734393697232</li>\n",
       "\t<li>0.328582764137536</li>\n",
       "\t<li>0.0255067858379334</li>\n",
       "\t<li>0.323453977936879</li>\n",
       "\t<li>0.726650265743956</li>\n",
       "\t<li>0.650914676487446</li>\n",
       "\t<li>0.257788311224431</li>\n",
       "\t<li>0.801096232607961</li>\n",
       "\t<li>0.511166726937518</li>\n",
       "\t<li>0.452245285036042</li>\n",
       "\t<li>0.677089086966589</li>\n",
       "\t<li>0.226168269058689</li>\n",
       "\t<li>0.378276855219156</li>\n",
       "</ol>\n"
      ],
      "text/latex": [
       "\\begin{enumerate*}\n",
       "\\item 0.105815433897078\n",
       "\\item 0.443846351001412\n",
       "\\item 0.790581372333691\n",
       "\\item 0.822703272104263\n",
       "\\item 0.276569725945592\n",
       "\\item 0.0598918728064746\n",
       "\\item 0.463237771531567\n",
       "\\item 0.953734393697232\n",
       "\\item 0.328582764137536\n",
       "\\item 0.0255067858379334\n",
       "\\item 0.323453977936879\n",
       "\\item 0.726650265743956\n",
       "\\item 0.650914676487446\n",
       "\\item 0.257788311224431\n",
       "\\item 0.801096232607961\n",
       "\\item 0.511166726937518\n",
       "\\item 0.452245285036042\n",
       "\\item 0.677089086966589\n",
       "\\item 0.226168269058689\n",
       "\\item 0.378276855219156\n",
       "\\end{enumerate*}\n"
      ],
      "text/markdown": [
       "1. 0.105815433897078\n",
       "2. 0.443846351001412\n",
       "3. 0.790581372333691\n",
       "4. 0.822703272104263\n",
       "5. 0.276569725945592\n",
       "6. 0.0598918728064746\n",
       "7. 0.463237771531567\n",
       "8. 0.953734393697232\n",
       "9. 0.328582764137536\n",
       "10. 0.0255067858379334\n",
       "11. 0.323453977936879\n",
       "12. 0.726650265743956\n",
       "13. 0.650914676487446\n",
       "14. 0.257788311224431\n",
       "15. 0.801096232607961\n",
       "16. 0.511166726937518\n",
       "17. 0.452245285036042\n",
       "18. 0.677089086966589\n",
       "19. 0.226168269058689\n",
       "20. 0.378276855219156\n",
       "\n",
       "\n"
      ],
      "text/plain": [
       " [1] 0.10581543 0.44384635 0.79058137 0.82270327 0.27656973 0.05989187\n",
       " [7] 0.46323777 0.95373439 0.32858276 0.02550679 0.32345398 0.72665027\n",
       "[13] 0.65091468 0.25778831 0.80109623 0.51116673 0.45224529 0.67708909\n",
       "[19] 0.22616827 0.37827686"
      ]
     },
     "metadata": {},
     "output_type": "display_data"
    }
   ],
   "source": [
    "runif(20, 0,1)"
   ]
  },
  {
   "cell_type": "code",
   "execution_count": 22,
   "metadata": {},
   "outputs": [],
   "source": [
    "## Antoher was to generate a random draw is with the function sample() \n",
    "?sample"
   ]
  },
  {
   "cell_type": "code",
   "execution_count": 21,
   "metadata": {},
   "outputs": [
    {
     "data": {
      "text/html": [
       "6"
      ],
      "text/latex": [
       "6"
      ],
      "text/markdown": [
       "6"
      ],
      "text/plain": [
       "[1] 6"
      ]
     },
     "metadata": {},
     "output_type": "display_data"
    }
   ],
   "source": [
    "##Randomly sample 1 object from the numerical range 1 to 6 \n",
    "sample(1:6,1)"
   ]
  },
  {
   "cell_type": "code",
   "execution_count": 8,
   "metadata": {},
   "outputs": [
    {
     "data": {
      "image/png": "[encoded data removed]",
      "text/plain": [
       "Plot with title “Histogram of sample(1:6, n, replace = T)”"
      ]
     },
     "metadata": {},
     "output_type": "display_data"
    }
   ],
   "source": [
    "##The function hist() creates a histogram of the proportions of values obtained in n random draws\n",
    "n = 10\n",
    "hist(sample(1:6, n, replace = T))"
   ]
  },
  {
   "cell_type": "markdown",
   "metadata": {},
   "source": [
    "What happens to our proportions when we increase n to a larger number (100,10000,100000)"
   ]
  },
  {
   "cell_type": "markdown",
   "metadata": {},
   "source": [
    "We can also sample any type of vector, for example"
   ]
  },
  {
   "cell_type": "code",
   "execution_count": 9,
   "metadata": {},
   "outputs": [
    {
     "data": {
      "text/html": [
       "<ol class=list-inline>\n",
       "\t<li>'Virginia'</li>\n",
       "\t<li>'Iowa'</li>\n",
       "\t<li>'Florida'</li>\n",
       "\t<li>'Idaho'</li>\n",
       "\t<li>'Nevada'</li>\n",
       "\t<li>'Illinois'</li>\n",
       "\t<li>'Kentucky'</li>\n",
       "\t<li>'Arizona'</li>\n",
       "\t<li>'Georgia'</li>\n",
       "\t<li>'New Mexico'</li>\n",
       "</ol>\n"
      ],
      "text/latex": [
       "\\begin{enumerate*}\n",
       "\\item 'Virginia'\n",
       "\\item 'Iowa'\n",
       "\\item 'Florida'\n",
       "\\item 'Idaho'\n",
       "\\item 'Nevada'\n",
       "\\item 'Illinois'\n",
       "\\item 'Kentucky'\n",
       "\\item 'Arizona'\n",
       "\\item 'Georgia'\n",
       "\\item 'New Mexico'\n",
       "\\end{enumerate*}\n"
      ],
      "text/markdown": [
       "1. 'Virginia'\n",
       "2. 'Iowa'\n",
       "3. 'Florida'\n",
       "4. 'Idaho'\n",
       "5. 'Nevada'\n",
       "6. 'Illinois'\n",
       "7. 'Kentucky'\n",
       "8. 'Arizona'\n",
       "9. 'Georgia'\n",
       "10. 'New Mexico'\n",
       "\n",
       "\n"
      ],
      "text/plain": [
       " [1] \"Virginia\"   \"Iowa\"       \"Florida\"    \"Idaho\"      \"Nevada\"    \n",
       " [6] \"Illinois\"   \"Kentucky\"   \"Arizona\"    \"Georgia\"    \"New Mexico\""
      ]
     },
     "metadata": {},
     "output_type": "display_data"
    }
   ],
   "source": [
    "sample(state.name, 10)\n"
   ]
  },
  {
   "cell_type": "code",
   "execution_count": 10,
   "metadata": {},
   "outputs": [
    {
     "data": {
      "text/html": [
       "<ol class=list-inline>\n",
       "\t<li>'B'</li>\n",
       "\t<li>'Z'</li>\n",
       "\t<li>'Y'</li>\n",
       "\t<li>'K'</li>\n",
       "\t<li>'G'</li>\n",
       "\t<li>'A'</li>\n",
       "\t<li>'S'</li>\n",
       "\t<li>'O'</li>\n",
       "\t<li>'M'</li>\n",
       "\t<li>'D'</li>\n",
       "\t<li>'P'</li>\n",
       "\t<li>'W'</li>\n",
       "\t<li>'B'</li>\n",
       "\t<li>'K'</li>\n",
       "\t<li>'S'</li>\n",
       "\t<li>'B'</li>\n",
       "\t<li>'J'</li>\n",
       "\t<li>'Z'</li>\n",
       "\t<li>'Z'</li>\n",
       "\t<li>'K'</li>\n",
       "\t<li>'N'</li>\n",
       "\t<li>'I'</li>\n",
       "\t<li>'O'</li>\n",
       "\t<li>'H'</li>\n",
       "\t<li>'N'</li>\n",
       "\t<li>'Z'</li>\n",
       "\t<li>'F'</li>\n",
       "\t<li>'T'</li>\n",
       "\t<li>'M'</li>\n",
       "\t<li>'K'</li>\n",
       "</ol>\n"
      ],
      "text/latex": [
       "\\begin{enumerate*}\n",
       "\\item 'B'\n",
       "\\item 'Z'\n",
       "\\item 'Y'\n",
       "\\item 'K'\n",
       "\\item 'G'\n",
       "\\item 'A'\n",
       "\\item 'S'\n",
       "\\item 'O'\n",
       "\\item 'M'\n",
       "\\item 'D'\n",
       "\\item 'P'\n",
       "\\item 'W'\n",
       "\\item 'B'\n",
       "\\item 'K'\n",
       "\\item 'S'\n",
       "\\item 'B'\n",
       "\\item 'J'\n",
       "\\item 'Z'\n",
       "\\item 'Z'\n",
       "\\item 'K'\n",
       "\\item 'N'\n",
       "\\item 'I'\n",
       "\\item 'O'\n",
       "\\item 'H'\n",
       "\\item 'N'\n",
       "\\item 'Z'\n",
       "\\item 'F'\n",
       "\\item 'T'\n",
       "\\item 'M'\n",
       "\\item 'K'\n",
       "\\end{enumerate*}\n"
      ],
      "text/markdown": [
       "1. 'B'\n",
       "2. 'Z'\n",
       "3. 'Y'\n",
       "4. 'K'\n",
       "5. 'G'\n",
       "6. 'A'\n",
       "7. 'S'\n",
       "8. 'O'\n",
       "9. 'M'\n",
       "10. 'D'\n",
       "11. 'P'\n",
       "12. 'W'\n",
       "13. 'B'\n",
       "14. 'K'\n",
       "15. 'S'\n",
       "16. 'B'\n",
       "17. 'J'\n",
       "18. 'Z'\n",
       "19. 'Z'\n",
       "20. 'K'\n",
       "21. 'N'\n",
       "22. 'I'\n",
       "23. 'O'\n",
       "24. 'H'\n",
       "25. 'N'\n",
       "26. 'Z'\n",
       "27. 'F'\n",
       "28. 'T'\n",
       "29. 'M'\n",
       "30. 'K'\n",
       "\n",
       "\n"
      ],
      "text/plain": [
       " [1] \"B\" \"Z\" \"Y\" \"K\" \"G\" \"A\" \"S\" \"O\" \"M\" \"D\" \"P\" \"W\" \"B\" \"K\" \"S\" \"B\" \"J\" \"Z\" \"Z\"\n",
       "[20] \"K\" \"N\" \"I\" \"O\" \"H\" \"N\" \"Z\" \"F\" \"T\" \"M\" \"K\""
      ]
     },
     "metadata": {},
     "output_type": "display_data"
    }
   ],
   "source": [
    "sample(LETTERS,30, replace = T)"
   ]
  },
  {
   "cell_type": "markdown",
   "metadata": {},
   "source": [
    "Lets simulate a simple gambling game coin toss"
   ]
  },
  {
   "cell_type": "code",
   "execution_count": 11,
   "metadata": {},
   "outputs": [],
   "source": [
    "coins = c(0,1)"
   ]
  },
  {
   "cell_type": "code",
   "execution_count": 12,
   "metadata": {},
   "outputs": [],
   "source": [
    "names(coins) = c(\"H\",\"T\")"
   ]
  },
  {
   "cell_type": "code",
   "execution_count": 13,
   "metadata": {},
   "outputs": [],
   "source": [
    "n = 10000\n",
    "trial = sample(coins, n, replace = T)\n",
    "#trial"
   ]
  },
  {
   "cell_type": "code",
   "execution_count": 14,
   "metadata": {},
   "outputs": [
    {
     "data": {
      "text/html": [
       "0.4929"
      ],
      "text/latex": [
       "0.4929"
      ],
      "text/markdown": [
       "0.4929"
      ],
      "text/plain": [
       "[1] 0.4929"
      ]
     },
     "metadata": {},
     "output_type": "display_data"
    },
    {
     "data": {
      "text/html": [
       "0.5071"
      ],
      "text/latex": [
       "0.5071"
      ],
      "text/markdown": [
       "0.5071"
      ],
      "text/plain": [
       "[1] 0.5071"
      ]
     },
     "metadata": {},
     "output_type": "display_data"
    }
   ],
   "source": [
    "length(trial[trial==0])/n\n",
    "length(trial[trial==1])/n"
   ]
  },
  {
   "cell_type": "code",
   "execution_count": 15,
   "metadata": {},
   "outputs": [
    {
     "data": {
      "text/html": [
       "0.5071"
      ],
      "text/latex": [
       "0.5071"
      ],
      "text/markdown": [
       "0.5071"
      ],
      "text/plain": [
       "[1] 0.5071"
      ]
     },
     "metadata": {},
     "output_type": "display_data"
    },
    {
     "data": {
      "text/html": [
       "0.4929"
      ],
      "text/latex": [
       "0.4929"
      ],
      "text/markdown": [
       "0.4929"
      ],
      "text/plain": [
       "[1] 0.4929"
      ]
     },
     "metadata": {},
     "output_type": "display_data"
    }
   ],
   "source": [
    "length(trial[names(trial)==\"T\"])/n\n",
    "length(trial[names(trial)==\"H\"])/n"
   ]
  },
  {
   "cell_type": "code",
   "execution_count": 16,
   "metadata": {},
   "outputs": [
    {
     "data": {
      "text/plain": [
       "trial\n",
       "   0    1 \n",
       "4929 5071 "
      ]
     },
     "metadata": {},
     "output_type": "display_data"
    }
   ],
   "source": [
    "table(trial)"
   ]
  },
  {
   "cell_type": "markdown",
   "metadata": {},
   "source": [
    "## Back to our original question, we need to simulate 4 trows of a fare die and count how many 6 we get"
   ]
  },
  {
   "cell_type": "code",
   "execution_count": 17,
   "metadata": {},
   "outputs": [],
   "source": [
    "#We need to create a function that allows us to sample many times (in this case 4) from a die\n",
    "die = c(1:6)\n",
    "n = 4"
   ]
  },
  {
   "cell_type": "markdown",
   "metadata": {},
   "source": [
    "A function in R is created using the format\n",
    "Var_name = function(args){...}"
   ]
  },
  {
   "cell_type": "code",
   "execution_count": 18,
   "metadata": {},
   "outputs": [],
   "source": [
    "##This function will sample from the vector x, n times with replacement\n",
    "chevalier = function(x,n){\n",
    "  a = sample(x,n,replace = T)\n",
    "  return(a)\n",
    "}"
   ]
  },
  {
   "cell_type": "code",
   "execution_count": 39,
   "metadata": {},
   "outputs": [
    {
     "data": {
      "text/html": [
       "<ol class=list-inline>\n",
       "\t<li>3</li>\n",
       "\t<li>5</li>\n",
       "\t<li>4</li>\n",
       "\t<li>5</li>\n",
       "</ol>\n"
      ],
      "text/latex": [
       "\\begin{enumerate*}\n",
       "\\item 3\n",
       "\\item 5\n",
       "\\item 4\n",
       "\\item 5\n",
       "\\end{enumerate*}\n"
      ],
      "text/markdown": [
       "1. 3\n",
       "2. 5\n",
       "3. 4\n",
       "4. 5\n",
       "\n",
       "\n"
      ],
      "text/plain": [
       "[1] 3 5 4 5"
      ]
     },
     "metadata": {},
     "output_type": "display_data"
    },
    {
     "data": {
      "text/html": [
       "<ol class=list-inline>\n",
       "\t<li>FALSE</li>\n",
       "\t<li>FALSE</li>\n",
       "</ol>\n"
      ],
      "text/latex": [
       "\\begin{enumerate*}\n",
       "\\item FALSE\n",
       "\\item FALSE\n",
       "\\end{enumerate*}\n"
      ],
      "text/markdown": [
       "1. FALSE\n",
       "2. FALSE\n",
       "\n",
       "\n"
      ],
      "text/plain": [
       "[1] FALSE FALSE"
      ]
     },
     "metadata": {},
     "output_type": "display_data"
    }
   ],
   "source": [
    "res = chevalier(die,n)\n",
    "res\n",
    "is.element(c('6','6'),res)"
   ]
  },
  {
   "cell_type": "markdown",
   "metadata": {},
   "source": [
    "We need now to repeat this draw many times and calculate how many times we are succesful (at least one 6) or not. In python the clear method is with a loop.\n",
    "\n",
    "In R loops (for, if, while) follow the following format\n",
    "\n",
    "for (i in x){...}\n"
   ]
  },
  {
   "cell_type": "code",
   "execution_count": 32,
   "metadata": {},
   "outputs": [],
   "source": [
    "m = 10 #how many times we are going to repeat the draw\n",
    "\n",
    "#we need a loop that cycles m times using our sampling function, \n",
    "#and assing each result to either a true or false if we have a 6 in the draw\n",
    "\n",
    "a = character(m) #create an empty vector of m number of characters\n",
    "mul = list() #create an empty list to get all our results\n",
    "res = vector()\n",
    "#a \n",
    "for (i in 1:m){\n",
    "  mul <- chevalier(a,n)\n",
    "  \n",
    "  if (is.element('6',mul)){\n",
    "      res <- c(res,TRUE) \n",
    "  }\n",
    "  else{\n",
    "      res <-c(res,FALSE)\n",
    "  }\n",
    "}"
   ]
  },
  {
   "cell_type": "code",
   "execution_count": 33,
   "metadata": {},
   "outputs": [
    {
     "data": {
      "text/html": [
       "<ol class=list-inline>\n",
       "\t<li>FALSE</li>\n",
       "\t<li>FALSE</li>\n",
       "\t<li>FALSE</li>\n",
       "\t<li>FALSE</li>\n",
       "\t<li>FALSE</li>\n",
       "\t<li>FALSE</li>\n",
       "\t<li>FALSE</li>\n",
       "\t<li>FALSE</li>\n",
       "\t<li>FALSE</li>\n",
       "\t<li>FALSE</li>\n",
       "</ol>\n"
      ],
      "text/latex": [
       "\\begin{enumerate*}\n",
       "\\item FALSE\n",
       "\\item FALSE\n",
       "\\item FALSE\n",
       "\\item FALSE\n",
       "\\item FALSE\n",
       "\\item FALSE\n",
       "\\item FALSE\n",
       "\\item FALSE\n",
       "\\item FALSE\n",
       "\\item FALSE\n",
       "\\end{enumerate*}\n"
      ],
      "text/markdown": [
       "1. FALSE\n",
       "2. FALSE\n",
       "3. FALSE\n",
       "4. FALSE\n",
       "5. FALSE\n",
       "6. FALSE\n",
       "7. FALSE\n",
       "8. FALSE\n",
       "9. FALSE\n",
       "10. FALSE\n",
       "\n",
       "\n"
      ],
      "text/plain": [
       " [1] FALSE FALSE FALSE FALSE FALSE FALSE FALSE FALSE FALSE FALSE"
      ]
     },
     "metadata": {},
     "output_type": "display_data"
    }
   ],
   "source": [
    "res\n"
   ]
  },
  {
   "cell_type": "code",
   "execution_count": 28,
   "metadata": {},
   "outputs": [
    {
     "data": {
      "text/html": [
       "<ol class=list-inline>\n",
       "\t<li>''</li>\n",
       "\t<li>''</li>\n",
       "\t<li>''</li>\n",
       "\t<li>''</li>\n",
       "\t<li>''</li>\n",
       "\t<li>''</li>\n",
       "\t<li>''</li>\n",
       "\t<li>''</li>\n",
       "\t<li>''</li>\n",
       "\t<li>''</li>\n",
       "</ol>\n"
      ],
      "text/latex": [
       "\\begin{enumerate*}\n",
       "\\item ''\n",
       "\\item ''\n",
       "\\item ''\n",
       "\\item ''\n",
       "\\item ''\n",
       "\\item ''\n",
       "\\item ''\n",
       "\\item ''\n",
       "\\item ''\n",
       "\\item ''\n",
       "\\end{enumerate*}\n"
      ],
      "text/markdown": [
       "1. ''\n",
       "2. ''\n",
       "3. ''\n",
       "4. ''\n",
       "5. ''\n",
       "6. ''\n",
       "7. ''\n",
       "8. ''\n",
       "9. ''\n",
       "10. ''\n",
       "\n",
       "\n"
      ],
      "text/plain": [
       " [1] \"\" \"\" \"\" \"\" \"\" \"\" \"\" \"\" \"\" \"\""
      ]
     },
     "metadata": {},
     "output_type": "display_data"
    }
   ],
   "source": [
    "a"
   ]
  },
  {
   "cell_type": "code",
   "execution_count": 29,
   "metadata": {},
   "outputs": [
    {
     "data": {
      "text/html": [
       "<strong>NA:</strong> NA"
      ],
      "text/latex": [
       "\\textbf{NA:} NA"
      ],
      "text/markdown": [
       "**NA:** NA"
      ],
      "text/plain": [
       "<NA> \n",
       "  NA "
      ]
     },
     "metadata": {},
     "output_type": "display_data"
    }
   ],
   "source": [
    "table(a)[\"TRUE\"]/m"
   ]
  },
  {
   "cell_type": "markdown",
   "metadata": {},
   "source": [
    "we hate loops in R, loops in R run extremely slow. A very important family of built in functions serve as a more efficient way of deal with loops.\n",
    "\n",
    "This is the apply family\n",
    "\n",
    "Lets rewrite our preview example using the apply function\n",
    "\n"
   ]
  },
  {
   "cell_type": "code",
   "execution_count": 42,
   "metadata": {},
   "outputs": [],
   "source": [
    "?apply"
   ]
  },
  {
   "cell_type": "code",
   "execution_count": 43,
   "metadata": {},
   "outputs": [
    {
     "data": {
      "text/html": [
       "<table>\n",
       "<tbody>\n",
       "\t<tr><td>1</td><td>3</td><td>6</td><td>3</td><td>2</td><td>4</td><td>5</td><td>1</td><td>5</td><td>3</td></tr>\n",
       "\t<tr><td>3</td><td>3</td><td>4</td><td>5</td><td>6</td><td>4</td><td>3</td><td>2</td><td>1</td><td>3</td></tr>\n",
       "\t<tr><td>3</td><td>6</td><td>1</td><td>2</td><td>6</td><td>6</td><td>3</td><td>4</td><td>5</td><td>4</td></tr>\n",
       "\t<tr><td>5</td><td>6</td><td>3</td><td>4</td><td>1</td><td>3</td><td>5</td><td>1</td><td>2</td><td>1</td></tr>\n",
       "</tbody>\n",
       "</table>\n"
      ],
      "text/latex": [
       "\\begin{tabular}{llllllllll}\n",
       "\t 1 & 3 & 6 & 3 & 2 & 4 & 5 & 1 & 5 & 3\\\\\n",
       "\t 3 & 3 & 4 & 5 & 6 & 4 & 3 & 2 & 1 & 3\\\\\n",
       "\t 3 & 6 & 1 & 2 & 6 & 6 & 3 & 4 & 5 & 4\\\\\n",
       "\t 5 & 6 & 3 & 4 & 1 & 3 & 5 & 1 & 2 & 1\\\\\n",
       "\\end{tabular}\n"
      ],
      "text/markdown": [
       "\n",
       "| 1 | 3 | 6 | 3 | 2 | 4 | 5 | 1 | 5 | 3 | \n",
       "| 3 | 3 | 4 | 5 | 6 | 4 | 3 | 2 | 1 | 3 | \n",
       "| 3 | 6 | 1 | 2 | 6 | 6 | 3 | 4 | 5 | 4 | \n",
       "| 5 | 6 | 3 | 4 | 1 | 3 | 5 | 1 | 2 | 1 | \n",
       "\n",
       "\n"
      ],
      "text/plain": [
       "     [,1] [,2] [,3] [,4] [,5] [,6] [,7] [,8] [,9] [,10]\n",
       "[1,] 1    3    6    3    2    4    5    1    5    3    \n",
       "[2,] 3    3    4    5    6    4    3    2    1    3    \n",
       "[3,] 3    6    1    2    6    6    3    4    5    4    \n",
       "[4,] 5    6    3    4    1    3    5    1    2    1    "
      ]
     },
     "metadata": {},
     "output_type": "display_data"
    }
   ],
   "source": [
    "#First lets replicate the sampling function m times\n",
    "m = 10\n",
    "die_list = replicate(m,chevalier(die,n))\n",
    "die_list"
   ]
  },
  {
   "cell_type": "code",
   "execution_count": 45,
   "metadata": {},
   "outputs": [
    {
     "data": {
      "text/html": [
       "<ol class=list-inline>\n",
       "\t<li>FALSE</li>\n",
       "\t<li>TRUE</li>\n",
       "\t<li>TRUE</li>\n",
       "\t<li>FALSE</li>\n",
       "\t<li>TRUE</li>\n",
       "\t<li>TRUE</li>\n",
       "\t<li>FALSE</li>\n",
       "\t<li>FALSE</li>\n",
       "\t<li>FALSE</li>\n",
       "\t<li>FALSE</li>\n",
       "</ol>\n"
      ],
      "text/latex": [
       "\\begin{enumerate*}\n",
       "\\item FALSE\n",
       "\\item TRUE\n",
       "\\item TRUE\n",
       "\\item FALSE\n",
       "\\item TRUE\n",
       "\\item TRUE\n",
       "\\item FALSE\n",
       "\\item FALSE\n",
       "\\item FALSE\n",
       "\\item FALSE\n",
       "\\end{enumerate*}\n"
      ],
      "text/markdown": [
       "1. FALSE\n",
       "2. TRUE\n",
       "3. TRUE\n",
       "4. FALSE\n",
       "5. TRUE\n",
       "6. TRUE\n",
       "7. FALSE\n",
       "8. FALSE\n",
       "9. FALSE\n",
       "10. FALSE\n",
       "\n",
       "\n"
      ],
      "text/plain": [
       " [1] FALSE  TRUE  TRUE FALSE  TRUE  TRUE FALSE FALSE FALSE FALSE"
      ]
     },
     "metadata": {},
     "output_type": "display_data"
    }
   ],
   "source": [
    "true_vector = apply(die_list, 2, function(r) any(6 %in% r))\n",
    "true_vector"
   ]
  },
  {
   "cell_type": "code",
   "execution_count": 51,
   "metadata": {},
   "outputs": [
    {
     "data": {
      "text/html": [
       "0.2"
      ],
      "text/latex": [
       "0.2"
      ],
      "text/markdown": [
       "0.2"
      ],
      "text/plain": [
       "[1] 0.2"
      ]
     },
     "metadata": {},
     "output_type": "display_data"
    }
   ],
   "source": [
    "length(which(true_vector == \"TRUE\"))/length(true_vector)"
   ]
  },
  {
   "cell_type": "code",
   "execution_count": 49,
   "metadata": {},
   "outputs": [
    {
     "data": {
      "text/html": [
       "<ol class=list-inline>\n",
       "\t<li>FALSE</li>\n",
       "\t<li>TRUE</li>\n",
       "\t<li>FALSE</li>\n",
       "\t<li>FALSE</li>\n",
       "\t<li>FALSE</li>\n",
       "\t<li>FALSE</li>\n",
       "\t<li>FALSE</li>\n",
       "\t<li>FALSE</li>\n",
       "\t<li>FALSE</li>\n",
       "\t<li>TRUE</li>\n",
       "</ol>\n"
      ],
      "text/latex": [
       "\\begin{enumerate*}\n",
       "\\item FALSE\n",
       "\\item TRUE\n",
       "\\item FALSE\n",
       "\\item FALSE\n",
       "\\item FALSE\n",
       "\\item FALSE\n",
       "\\item FALSE\n",
       "\\item FALSE\n",
       "\\item FALSE\n",
       "\\item TRUE\n",
       "\\end{enumerate*}\n"
      ],
      "text/markdown": [
       "1. FALSE\n",
       "2. TRUE\n",
       "3. FALSE\n",
       "4. FALSE\n",
       "5. FALSE\n",
       "6. FALSE\n",
       "7. FALSE\n",
       "8. FALSE\n",
       "9. FALSE\n",
       "10. TRUE\n",
       "\n",
       "\n"
      ],
      "text/plain": [
       " [1] FALSE  TRUE FALSE FALSE FALSE FALSE FALSE FALSE FALSE  TRUE"
      ]
     },
     "metadata": {},
     "output_type": "display_data"
    }
   ],
   "source": [
    "true_vector = apply(die_list, 2, function(r) r[1] == \"3\" & r[2] == 3 )\n",
    "true_vector"
   ]
  },
  {
   "cell_type": "code",
   "execution_count": 52,
   "metadata": {},
   "outputs": [
    {
     "data": {
      "text/html": [
       "10"
      ],
      "text/latex": [
       "10"
      ],
      "text/markdown": [
       "10"
      ],
      "text/plain": [
       "[1] 10"
      ]
     },
     "metadata": {},
     "output_type": "display_data"
    }
   ],
   "source": [
    "length(true_vector)"
   ]
  },
  {
   "cell_type": "code",
   "execution_count": null,
   "metadata": {},
   "outputs": [],
   "source": []
  }
 ],
 "metadata": {
  "kernelspec": {
   "display_name": "R",
   "language": "R",
   "name": "ir"
  },
  "language_info": {
   "codemirror_mode": "r",
   "file_extension": ".r",
   "mimetype": "text/x-r-source",
   "name": "R",
   "pygments_lexer": "r",
   "version": "3.3.2"
  }
 },
 "nbformat": 4,
 "nbformat_minor": 2
}
