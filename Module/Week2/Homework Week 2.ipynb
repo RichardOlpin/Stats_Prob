{
 "cells": [
  {
   "cell_type": "markdown",
   "metadata": {},
   "source": [
    "## Homework"
   ]
  },
  {
   "cell_type": "markdown",
   "metadata": {},
   "source": [
    "### 1. History of Probability\n",
    "It is said that de Mere had been betting that, in four rolls of a die, at least one six would turn up. He was winning consistently and, to get more people to play, he changed the game to bet that, in 24 rolls of two dice, a pair of sixes would turn up. It is claimed that de Mere lost with 24 and felt that 25 rolls were necessary to make the game favorable. It was un grand scandale that mathematics was wrong."
   ]
  },
  {
   "cell_type": "code",
   "execution_count": 1,
   "metadata": {},
   "outputs": [],
   "source": [
    "#1. Write function to sample from die\n",
    "#2. Write loop or function to tally sucess vs failure (define sucess?)\n",
    "#3. Run 10000 trials\n",
    "#4. Calculate probabilities for 24 rolls and 25 rolls"
   ]
  },
  {
   "cell_type": "code",
   "execution_count": 2,
   "metadata": {},
   "outputs": [],
   "source": [
    "# m is the number of dice rolls which will change, either 24 or 25\n",
    "# I am hardcoding the dice values 1:6 and that we are rolling 2 dice at a time\n",
    "deMere <- function(){\n",
    "    a <- sample(1:6,2,replace=T)\n",
    "    return (a)\n",
    "}"
   ]
  },
  {
   "cell_type": "code",
   "execution_count": 3,
   "metadata": {},
   "outputs": [],
   "source": [
    "#This will just duplicate the deMere roll m times\n",
    "rep_deMere <- function(m){\n",
    "    die_list = replicate(m,deMere())\n",
    "    return (die_list)\n",
    "}"
   ]
  },
  {
   "cell_type": "code",
   "execution_count": 4,
   "metadata": {},
   "outputs": [
    {
     "data": {
      "text/html": [
       "<table>\n",
       "<tbody>\n",
       "\t<tr><td>4</td><td>6</td><td>4</td><td>6</td><td>1</td><td>1</td><td>6</td><td>3</td><td>5</td><td>6</td><td>⋯</td><td>2</td><td>3</td><td>3</td><td>5</td><td>4</td><td>3</td><td>3</td><td>6</td><td>3</td><td>4</td></tr>\n",
       "\t<tr><td>3</td><td>4</td><td>6</td><td>4</td><td>3</td><td>5</td><td>3</td><td>4</td><td>5</td><td>6</td><td>⋯</td><td>6</td><td>2</td><td>1</td><td>4</td><td>4</td><td>3</td><td>1</td><td>5</td><td>5</td><td>3</td></tr>\n",
       "</tbody>\n",
       "</table>\n"
      ],
      "text/latex": [
       "\\begin{tabular}{llllllllllllllllllllllll}\n",
       "\t 4 & 6 & 4 & 6 & 1 & 1 & 6 & 3 & 5 & 6 & ⋯ & 2 & 3 & 3 & 5 & 4 & 3 & 3 & 6 & 3 & 4\\\\\n",
       "\t 3 & 4 & 6 & 4 & 3 & 5 & 3 & 4 & 5 & 6 & ⋯ & 6 & 2 & 1 & 4 & 4 & 3 & 1 & 5 & 5 & 3\\\\\n",
       "\\end{tabular}\n"
      ],
      "text/markdown": [
       "\n",
       "| 4 | 6 | 4 | 6 | 1 | 1 | 6 | 3 | 5 | 6 | ⋯ | 2 | 3 | 3 | 5 | 4 | 3 | 3 | 6 | 3 | 4 | \n",
       "| 3 | 4 | 6 | 4 | 3 | 5 | 3 | 4 | 5 | 6 | ⋯ | 6 | 2 | 1 | 4 | 4 | 3 | 1 | 5 | 5 | 3 | \n",
       "\n",
       "\n"
      ],
      "text/plain": [
       "     [,1] [,2] [,3] [,4] [,5] [,6] [,7] [,8] [,9] [,10] [,11] [,12] [,13] [,14]\n",
       "[1,] 4    6    4    6    1    1    6    3    5    6     ⋯     2     3     3    \n",
       "[2,] 3    4    6    4    3    5    3    4    5    6     ⋯     6     2     1    \n",
       "     [,15] [,16] [,17] [,18] [,19] [,20] [,21]\n",
       "[1,] 5     4     3     3     6     3     4    \n",
       "[2,] 4     4     3     1     5     5     3    "
      ]
     },
     "metadata": {},
     "output_type": "display_data"
    }
   ],
   "source": [
    "rep_deMere(24)"
   ]
  },
  {
   "cell_type": "code",
   "execution_count": 5,
   "metadata": {},
   "outputs": [
    {
     "data": {
      "text/html": [
       "FALSE"
      ],
      "text/latex": [
       "FALSE"
      ],
      "text/markdown": [
       "FALSE"
      ],
      "text/plain": [
       "[1] FALSE"
      ]
     },
     "metadata": {},
     "output_type": "display_data"
    }
   ],
   "source": [
    "# m is number of rolls\n",
    "# generates all the dice rolls, and checks to see if each die in the pair are 6's\n",
    "# then reduces the vector of size m to a single TRUE or FALSE by checking to see\n",
    "# if a pair of 6s was rolled at least once\n",
    "pair_of_6s <-function(m){\n",
    "    return(is.element(TRUE, (apply(rep_deMere(m),2,function(r) r[1] == \"6\" & r[2] == \"6\"))))\n",
    "}                                   \n",
    "pair_of_6s(24)"
   ]
  },
  {
   "cell_type": "markdown",
   "metadata": {},
   "source": [
    "### Probability with 24 rolls"
   ]
  },
  {
   "cell_type": "code",
   "execution_count": 6,
   "metadata": {},
   "outputs": [
    {
     "data": {
      "text/html": [
       "0.4974"
      ],
      "text/latex": [
       "0.4974"
      ],
      "text/markdown": [
       "0.4974"
      ],
      "text/plain": [
       "[1] 0.4974"
      ]
     },
     "metadata": {},
     "output_type": "display_data"
    }
   ],
   "source": [
    "rolling24 <- replicate(10000,pair_of_6s(24))\n",
    "length(which(rolling24 == \"TRUE\"))/length(rolling24)"
   ]
  },
  {
   "cell_type": "markdown",
   "metadata": {},
   "source": [
    "### Probability with 25 rolls"
   ]
  },
  {
   "cell_type": "code",
   "execution_count": 7,
   "metadata": {},
   "outputs": [
    {
     "data": {
      "text/html": [
       "0.5054"
      ],
      "text/latex": [
       "0.5054"
      ],
      "text/markdown": [
       "0.5054"
      ],
      "text/plain": [
       "[1] 0.5054"
      ]
     },
     "metadata": {},
     "output_type": "display_data"
    }
   ],
   "source": [
    "rolling25 <- replicate(10000,pair_of_6s(25))\n",
    "length(which(rolling25 == \"TRUE\"))/length(rolling25)"
   ]
  },
  {
   "cell_type": "markdown",
   "metadata": {},
   "source": [
    "## 2. Addition rule\n",
    "\n",
    "#### Find the probabilities using the table\n",
    "\n",
    "\n",
    "> 1. Type O or AB.\n",
    "\n",
    "> 2. Type A or AB.\n",
    "\n",
    "> 3. Type AB or Rh negative. \n",
    "\n",
    "> 4. Type O and Negative. \n",
    "\n",
    "> 5. Type AB"
   ]
  },
  {
   "cell_type": "markdown",
   "metadata": {},
   "source": [
    "|Type     |O    |A    |B    |AB |Total |\n",
    "|:--------|:----|:----|:---------|:-------|:-----|\n",
    "|Positive |163  |662  |1513      |1603    |3941  |\n",
    "|Negative |224  |933  |2400      |2337    |5894  |\n",
    "|Total    |387  |1595 |3913      |3940    |9835  |\n"
   ]
  },
  {
   "cell_type": "code",
   "execution_count": 8,
   "metadata": {},
   "outputs": [
    {
     "data": {
      "text/html": [
       "0.4399593289273"
      ],
      "text/latex": [
       "0.4399593289273"
      ],
      "text/markdown": [
       "0.4399593289273"
      ],
      "text/plain": [
       "[1] 0.4399593"
      ]
     },
     "metadata": {},
     "output_type": "display_data"
    },
    {
     "data": {
      "text/html": [
       "0.562785968479919"
      ],
      "text/latex": [
       "0.562785968479919"
      ],
      "text/markdown": [
       "0.562785968479919"
      ],
      "text/plain": [
       "[1] 0.562786"
      ]
     },
     "metadata": {},
     "output_type": "display_data"
    },
    {
     "data": {
      "text/html": [
       "0.762277580071174"
      ],
      "text/latex": [
       "0.762277580071174"
      ],
      "text/markdown": [
       "0.762277580071174"
      ],
      "text/plain": [
       "[1] 0.7622776"
      ]
     },
     "metadata": {},
     "output_type": "display_data"
    },
    {
     "data": {
      "text/html": [
       "0.0227758007117438"
      ],
      "text/latex": [
       "0.0227758007117438"
      ],
      "text/markdown": [
       "0.0227758007117438"
      ],
      "text/plain": [
       "[1] 0.0227758"
      ]
     },
     "metadata": {},
     "output_type": "display_data"
    },
    {
     "data": {
      "text/html": [
       "0.400610066090493"
      ],
      "text/latex": [
       "0.400610066090493"
      ],
      "text/markdown": [
       "0.400610066090493"
      ],
      "text/plain": [
       "[1] 0.4006101"
      ]
     },
     "metadata": {},
     "output_type": "display_data"
    }
   ],
   "source": [
    "prob1 = 387/9835 + 3940/9835\n",
    "prob1\n",
    "\n",
    "prob2 = 1595/9835 + 3940/9835\n",
    "prob2\n",
    "\n",
    "prob3 = 3940/9835 + 5894/9835 - (2337/9835)\n",
    "prob3\n",
    "\n",
    "prob4 = 224/9835\n",
    "prob4\n",
    "\n",
    "prob5 = 3940/9835\n",
    "prob5"
   ]
  },
  {
   "cell_type": "markdown",
   "metadata": {},
   "source": [
    "### 3. Multiplication Rule\n",
    "\n",
    "##### From this exercises: If I roll 5 dice, what is the chance of getting all sixes? What is the chance of getting no sixes?\n",
    "\n",
    "Write a simulation in R to obtain the probabilities for each of these two exercises running 10000 trials\n",
    "\n",
    "Hint.\n",
    "\n",
    "Remember that the change to get all 6 in 5 rolls is $(1/6)^5$\n",
    "\n",
    "and to get no sixes is $(5/6)^5$\n"
   ]
  },
  {
   "cell_type": "code",
   "execution_count": 9,
   "metadata": {},
   "outputs": [],
   "source": [
    "#All sixes\n",
    "#1. Write function to sample from die\n",
    "#2. Write function to determine if in each 5 rolls we get all sixes (6*5) \n",
    "#3. Run 10000 trials - Hint check sapply function\n",
    "#4. Calculate probability\n",
    "\n",
    "#No sixes\n",
    "\n",
    "#1. Write function to sample from die - - Hint check sapply function -\n",
    "#2. Write function to determine if in each 5 rolls we get no sixes (6*5)\n",
    "#3. Run 10000 trials \n",
    "#4. Calculate probability\n"
   ]
  },
  {
   "cell_type": "code",
   "execution_count": 10,
   "metadata": {},
   "outputs": [],
   "source": [
    "die_roll <- function(n){\n",
    "    return (sample(1:6,n,replace = T))\n",
    "}\n",
    "#6^5"
   ]
  },
  {
   "cell_type": "markdown",
   "metadata": {},
   "source": [
    "### Probability of rolling all 6's"
   ]
  },
  {
   "cell_type": "code",
   "execution_count": 11,
   "metadata": {},
   "outputs": [
    {
     "data": {
      "text/html": [
       "2e-04"
      ],
      "text/latex": [
       "2e-04"
      ],
      "text/markdown": [
       "2e-04"
      ],
      "text/plain": [
       "[1] 2e-04"
      ]
     },
     "metadata": {},
     "output_type": "display_data"
    }
   ],
   "source": [
    "x <-replicate(10000,die_roll(5))\n",
    "#x1 <- apply(x,2, function(y) print(prod(y)) & prod(y)==7776)\n",
    "x1 <- apply(x,2, function(y) (prod(y)==7776))\n",
    "#x1\n",
    "length(which(x1==\"TRUE\"))/length(x1)"
   ]
  },
  {
   "cell_type": "markdown",
   "metadata": {},
   "source": [
    "### Probability of rolling NO 6's"
   ]
  },
  {
   "cell_type": "code",
   "execution_count": 12,
   "metadata": {},
   "outputs": [
    {
     "data": {
      "text/html": [
       "0.3967"
      ],
      "text/latex": [
       "0.3967"
      ],
      "text/markdown": [
       "0.3967"
      ],
      "text/plain": [
       "[1] 0.3967"
      ]
     },
     "metadata": {},
     "output_type": "display_data"
    }
   ],
   "source": [
    "x <-replicate(10000,die_roll(5))\n",
    "#x1 <- apply(x,2, function(y) prod(y) == 7776)\n",
    "#x1 <- apply(x,2, function(y) is.element(\"6\",y) &print(y))\n",
    "x1 <- apply(x,2, function(y) is.element(\"6\",y))\n",
    "#x1\n",
    "x2 <- length(which(x1 == \"FALSE\"))/length(x1)\n",
    "x2"
   ]
  },
  {
   "cell_type": "markdown",
   "metadata": {},
   "source": [
    "### 4. Conditional Probability\n",
    "\n",
    "Consider a family that has three children. We are interested in the children's genders. Our sample space is S={(G,G,G),(G,G,B),(G,B,G),(G,B,B),(B,G,G),(B,G,B),(B,B,G),(B,B,B)}. Also assume that all eight possible outcomes are equally likely.\n",
    "\n",
    "1. What is the probability that the three children are girls given that the first child is a girl?\n",
    "\n",
    "2. What is the probability that At least two children are boys given that the first child is a boy?"
   ]
  },
  {
   "cell_type": "markdown",
   "metadata": {
    "collapsed": true
   },
   "source": [
    "P(AandB)/ P(B)"
   ]
  },
  {
   "cell_type": "markdown",
   "metadata": {},
   "source": [
    "P(A) = three girls\n",
    "P(B) = first child = girl"
   ]
  },
  {
   "cell_type": "code",
   "execution_count": 13,
   "metadata": {},
   "outputs": [
    {
     "data": {
      "text/html": [
       "0.25"
      ],
      "text/latex": [
       "0.25"
      ],
      "text/markdown": [
       "0.25"
      ],
      "text/plain": [
       "[1] 0.25"
      ]
     },
     "metadata": {},
     "output_type": "display_data"
    }
   ],
   "source": [
    "probA = 1/8\n",
    "probB = 1/2\n",
    "probA_and_B = 1/8\n",
    "answer1 = probA_and_B/probB\n",
    "answer1"
   ]
  },
  {
   "cell_type": "code",
   "execution_count": 14,
   "metadata": {},
   "outputs": [
    {
     "data": {
      "text/html": [
       "0.75"
      ],
      "text/latex": [
       "0.75"
      ],
      "text/markdown": [
       "0.75"
      ],
      "text/plain": [
       "[1] 0.75"
      ]
     },
     "metadata": {},
     "output_type": "display_data"
    }
   ],
   "source": [
    "probA = 1/2\n",
    "probB = 1/2\n",
    "probA_and_B = 3/8\n",
    "answer2 = probA_and_B/probB\n",
    "answer2"
   ]
  },
  {
   "cell_type": "code",
   "execution_count": null,
   "metadata": {},
   "outputs": [],
   "source": []
  }
 ],
 "metadata": {
  "kernelspec": {
   "display_name": "R",
   "language": "R",
   "name": "ir"
  },
  "language_info": {
   "codemirror_mode": "r",
   "file_extension": ".r",
   "mimetype": "text/x-r-source",
   "name": "R",
   "pygments_lexer": "r",
   "version": "3.3.2"
  }
 },
 "nbformat": 4,
 "nbformat_minor": 2
}
